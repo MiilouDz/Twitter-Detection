{
  "cells": [
    {
      "cell_type": "markdown",
      "metadata": {
        "id": "view-in-github",
        "colab_type": "text"
      },
      "source": [
        "<a href=\"https://colab.research.google.com/github/MiilouDz/Twitter-Detection/blob/main/Twitter-Community.ipynb\" target=\"_parent\"><img src=\"https://colab.research.google.com/assets/colab-badge.svg\" alt=\"Open In Colab\"/></a>"
      ]
    },
    {
      "cell_type": "markdown",
      "metadata": {
        "id": "RBcUCuaXxJUu"
      },
      "source": [
        "## CIS 600, Spring 2018\n",
        "## Assignment 2: Community Detection & Twitter\n",
        "### Due: Friday, March 09\n",
        "### Amritbani Sondhi, email: amritbani.sondhi@gmail.com"
      ]
    },
    {
      "cell_type": "markdown",
      "metadata": {
        "id": "LvJcnn8GxJU2"
      },
      "source": [
        "--------------------------------------------------------------------------------------------------------------------------------"
      ]
    },
    {
      "cell_type": "markdown",
      "metadata": {
        "id": "doSByJKQxJU3"
      },
      "source": [
        "### • Choose a popular Twitter account (≥ 10, 000 followers)\n",
        "#### Solution:"
      ]
    },
    {
      "cell_type": "code",
      "execution_count": null,
      "metadata": {
        "colab": {
          "base_uri": "https://localhost:8080/"
        },
        "id": "xnlCtbxOxJU3",
        "outputId": "6e4f262d-1541-4fc5-9fc8-885ad1bb8924"
      },
      "outputs": [
        {
          "name": "stdout",
          "output_type": "stream",
          "text": [
            "Looking in indexes: https://pypi.org/simple, https://us-python.pkg.dev/colab-wheels/public/simple/\n",
            "Collecting twitter\n",
            "  Downloading twitter-1.19.6-py2.py3-none-any.whl (50 kB)\n",
            "\u001b[K     |████████████████████████████████| 50 kB 5.8 MB/s \n",
            "\u001b[?25hRequirement already satisfied: certifi in /usr/local/lib/python3.7/dist-packages (from twitter) (2022.6.15)\n",
            "Installing collected packages: twitter\n",
            "Successfully installed twitter-1.19.6\n"
          ]
        }
      ],
      "source": [
        "pip install twitter"
      ]
    },
    {
      "cell_type": "markdown",
      "metadata": {
        "id": "fpT_PDn8xJU5"
      },
      "source": [
        "Importing Libraries:"
      ]
    },
    {
      "cell_type": "code",
      "execution_count": null,
      "metadata": {
        "id": "0WQuKgSmxJU6"
      },
      "outputs": [],
      "source": [
        "import json\n",
        "import pandas as pd\n",
        "from twitter import *\n",
        "\n",
        "import sys\n",
        "import time\n",
        "from twitter.api import TwitterHTTPError\n",
        "from urllib.error import URLError\n",
        "from http.client import BadStatusLine\n",
        "\n",
        "# This will let us create new partial functions with arguments set to certain values.\n",
        "from functools import partial\n",
        "# This was maxint. There is no longer a maxint (in Python 3)\n",
        "from sys import maxsize"
      ]
    },
    {
      "cell_type": "markdown",
      "metadata": {
        "id": "oYhoG3pYxJU7"
      },
      "source": [
        "Authenticating User:"
      ]
    },
    {
      "cell_type": "code",
      "execution_count": null,
      "metadata": {
        "id": "KOlcFP8WxJU8"
      },
      "outputs": [],
      "source": [
        "# Loading my authentication tokens\n",
        "#with open('auth_dict','r') as f:\n",
        "#   twtr_auth = json.load(f)\n",
        "\n",
        "# To make it more readable, lets store\n",
        "# the OAuth credentials in strings first.\n",
        "#CONSUMER_KEY = twtr_auth['bDlpN080V191bXZPZkY5Um0zS2Q6MTpjaQ'] #consumer_key\n",
        "#CONSUMER_SECRET = twtr_auth['TTa6ccSpjnuk3UkZ_QJK3AH_MpitestFHX-4OQafTM1F9xLl5h'] #consumer_secret\n",
        "#OAUTH_TOKEN = twtr_auth['QyldKYLyM5LbK4Yi8AwswgvAU'] #Token\n",
        "#OAUTH_TOKEN_SECRET = twtr_auth['y5MiZV1N7Kvre9T6uNtD4Ga31IOoW87xIgbAdP0xuMR7WUQX3G'] #token_secret\n",
        "    \n",
        "CONSUMER_KEY = \"0JsGd0D5t1NxRuuOI4fK14dGI\"\n",
        "CONSUMER_SECRET = \"kqzB9d8lWxOvqMbx0O0hrLeQyadVzkj1qHdpoNpMbjuzfUhhRn\"\n",
        "OAUTH_TOKEN = \"1572303826299781121-kNqwOgIo721c7b7q7bcl7wv8ZG2HVm\"\n",
        "OAUTH_TOKEN_SECRET = \"5tpFwjFE1wPVG1u1QSNKA4HW7J7GAw2wEjTbRnEL1alrj\"\n",
        "\n",
        "# Then, we store the OAuth object in \"auth\"\n",
        "auth = OAuth(OAUTH_TOKEN, OAUTH_TOKEN_SECRET,\n",
        "                           CONSUMER_KEY, CONSUMER_SECRET)\n",
        "# Notice that there are four tokens - you need to create these in the\n",
        "# Twitter Apps dashboard after you have created your own \"app\".\n",
        "\n",
        "# We now create the twitter search object.\n",
        "t = Twitter(auth=auth)"
      ]
    },
    {
      "cell_type": "markdown",
      "metadata": {
        "id": "EZW5L6YvxJU-"
      },
      "source": [
        "Select a user to start with:"
      ]
    },
    {
      "cell_type": "code",
      "execution_count": null,
      "metadata": {
        "id": "fRSxSRYvxJU-"
      },
      "outputs": [],
      "source": [
        "popular_user =  'TheRealStanLee' # 'jimmyfallon' #'RobertDowneyJr' #'Michiel_Huisman'"
      ]
    },
    {
      "cell_type": "markdown",
      "metadata": {
        "id": "dMtdnf5MxJU_"
      },
      "source": [
        "--------------------------------------------------------------------------------------------------------------------------------"
      ]
    },
    {
      "cell_type": "markdown",
      "metadata": {
        "id": "AiY99R56xJU_"
      },
      "source": [
        "### • Build the friendship graph for that account’s followers\n",
        "#### Solution:"
      ]
    },
    {
      "cell_type": "code",
      "execution_count": null,
      "metadata": {
        "id": "Qm0vPMUixJVA"
      },
      "outputs": [],
      "source": [
        "def make_twitter_request(twitter_api_func, max_errors=10, *args, **kw):\n",
        "    # A nested helper function that handles common HTTPErrors. Return an updated\n",
        "    # value for wait_period if the problem is a 500 level error. Block until the\n",
        "    # rate limit is reset if it's a rate limitingt issue (429 error). Returns None\n",
        "    # for 401 and 404 errors, which requires special handling by the caller.\n",
        "    def handle_twitter_http_error(e, wait_period=2, sleep_when_rate_limited=True):\n",
        "        \n",
        "        if wait_period > 3600: # Seconds\n",
        "            print('Too many retries. Quitting.', file=sys.stderr)\n",
        "            raise e\n",
        "        \n",
        "        # See https://dev.twitter.com/docs/error-codes-responses for common codes\n",
        "        \n",
        "        if e.e.code == 401:\n",
        "            print('Encountered 401 Error (Not Authorized)', file=sys.stderr)\n",
        "            return None\n",
        "        elif e.e.code == 404:\n",
        "            print('Encountered 404 Error (Not Found)', file=sys.stderr)\n",
        "            return None\n",
        "        elif e.e.code == 429:\n",
        "            print('Encountered 429 Error (Rate Limit Exceeded)', file=sys.stderr)\n",
        "            if sleep_when_rate_limited:\n",
        "                print(\"Retrying in 15 minutes...ZzZ...\", file=sys.stderr)\n",
        "                sys.stderr.flush()\n",
        "                time.sleep(60*15 + 5)\n",
        "                print('...ZzZ...Awake now and trying again.', file=sys.stderr)\n",
        "                return 2\n",
        "            else:\n",
        "                raise e # Caller must handle the rate limiting issue\n",
        "        elif e.e.code in (500, 502, 503, 504):\n",
        "            print('Encountered %i Error. Retrying in %i seconds' % (e.e.code, wait_period), file=sys.stderr)\n",
        "            time.sleep(wait_period)\n",
        "            wait_period *= 1.5\n",
        "            return wait_period\n",
        "        else:\n",
        "            raise e\n",
        "    # End of nested helper function\n",
        "\n",
        "    wait_period = 2\n",
        "    error_count = 0\n",
        "    while True:\n",
        "        try:\n",
        "            return twitter_api_func(*args, **kw)\n",
        "        except TwitterHTTPError as e:\n",
        "            error_count = 0\n",
        "            wait_period = handle_twitter_http_error(e, wait_period)\n",
        "            if wait_period is None:\n",
        "                return\n",
        "        except URLError as e:\n",
        "            error_count += 1\n",
        "            print(\"URLError encountered. Continuing.\", file=sys.stderr)\n",
        "            if error_count > max_errors:\n",
        "                print(\"Too many consecutive errors...bailing out.\", file=sys.stderr)\n",
        "                raise\n",
        "        except BadStatusLine as e:\n",
        "            error_count += 1\n",
        "            print >> sys.stderr, \"BadStatusLine encountered. Continuing.\"\n",
        "            if error_count > max_errors:\n",
        "                print(\"Too many consecutive errors...bailing out.\", file=sys.stderr)\n",
        "                raise"
      ]
    },
    {
      "cell_type": "code",
      "execution_count": null,
      "metadata": {
        "id": "nEb1CmG6xJVB"
      },
      "outputs": [],
      "source": [
        "def get_friends_followers_ids(twitter_api, screen_name=None, user_id=None,\n",
        "                                friends_limit=maxsize, followers_limit=maxsize):\n",
        "    \n",
        "    # Must have either screen_name or user_id (logical xor)\n",
        "    assert (screen_name != None) != (user_id != None), \\\n",
        "    \"Must have screen_name or user_id, but not both\"\n",
        "    \n",
        "    # See https://dev.twitter.com/docs/api/1.1/get/friends/ids and\n",
        "    # https://dev.twitter.com/docs/api/1.1/get/followers/ids for details on API parameters\n",
        "    \n",
        "    # You can also do this with a function closure.\n",
        "    get_friends_ids = partial(make_twitter_request, twitter_api.friends.ids,\n",
        "                                count=5000)\n",
        "    get_followers_ids = partial(make_twitter_request, twitter_api.followers.ids,\n",
        "                                count=5000)\n",
        "    \n",
        "    friends_ids, followers_ids = [], []\n",
        "    \n",
        "    for twitter_api_func, limit, ids, label in [\n",
        "            [get_friends_ids, friends_limit, friends_ids, \"friends\"],\n",
        "            [get_followers_ids, followers_limit, followers_ids, \"followers\"]\n",
        "            ]:\n",
        "        \n",
        "        #LOOK HERE! This little line is important.\n",
        "        if limit == 0: continue\n",
        "        \n",
        "        cursor = -1\n",
        "        while cursor != 0: #and cursor != '\"':\n",
        "            \n",
        "            # Use make_twitter_request via the partially bound callable...\n",
        "            if screen_name:\n",
        "                response = twitter_api_func(screen_name=screen_name, cursor=cursor)\n",
        "            else: # user_id\n",
        "                response = twitter_api_func(user_id=user_id, cursor=cursor)\n",
        "                \n",
        "            if response is not None:\n",
        "                ids += response['ids']\n",
        "                cursor = response['next_cursor']\n",
        "                \n",
        "            print('Fetched {0} total {1} ids for {2}'.format(len(ids), label, (user_id or screen_name), file=sys.stderr))\n",
        "            \n",
        "            if len(ids) >= limit or response is None:\n",
        "                break\n",
        "                \n",
        "    # Do something useful with the IDs, like store them to disk...\n",
        "    return friends_ids[:friends_limit], followers_ids[:followers_limit]"
      ]
    },
    {
      "cell_type": "code",
      "execution_count": null,
      "metadata": {
        "id": "y_HKise3xJVC"
      },
      "outputs": [],
      "source": [
        "def crawl_followers(twitter_api, screen_name, limit=1000000, depth=2):\n",
        "    \n",
        "    # Resolve the ID for screen_name and start working with IDs for consistency\n",
        "    seed_id = str(twitter_api.users.show(screen_name=screen_name)['id'])\n",
        "    \n",
        "    friend_queue, next_queue = get_friends_followers_ids(twitter_api, user_id=seed_id,\n",
        "                        friends_limit=limit, followers_limit=limit)\n",
        "    \n",
        "    # Store followers in an object\n",
        "    user_followers = dict()\n",
        "    follower_list = [str(x) for x in next_queue]\n",
        "    \n",
        "    for line1 in follower_list:\n",
        "        # here define what key is, for example,\n",
        "        key = seed_id\n",
        "        user_followers.setdefault(key,[]).append(line1)\n",
        "    \n",
        "    # Store friends in an object\n",
        "    user_friends = dict()\n",
        "    friend_list = [str(x) for x in friend_queue]\n",
        "    \n",
        "    for line2 in friend_list:\n",
        "        # here define what key is, for example,\n",
        "        key = seed_id\n",
        "    \n",
        "        #user_followers[key].append(line)\n",
        "        user_friends.setdefault(key,[]).append(line2)\n",
        "    \n",
        "    d = 1\n",
        "    while d < depth:\n",
        "        \n",
        "        d += 1\n",
        "        \n",
        "        # Reset the next_queue so that we can start building up the next level of followers-of-followers\n",
        "        (queue, next_queue) = (next_queue, [])\n",
        "        \n",
        "        # Loop through the current level of followers\n",
        "        for fid in queue:\n",
        "            friendid_queue, follower_ids = get_friends_followers_ids(twitter_api, user_id=fid, friends_limit=limit, followers_limit=limit)\n",
        "\n",
        "            # Store followers in an object\n",
        "            follower_ids_list = [str(x) for x in follower_ids]\n",
        "\n",
        "            for line3 in follower_ids_list:\n",
        "                # here define what key is, for example,\n",
        "                key = fid\n",
        "                #user_followers[key].append(line)\n",
        "                user_followers.setdefault(key,[]).append(line3)\n",
        "\n",
        "            # Store friends in an object\n",
        "            friendsid_list = [str(x) for x in friendid_queue]\n",
        "    \n",
        "            for line4 in friendsid_list:\n",
        "                # here define what key is, for example,\n",
        "                key = fid\n",
        "                user_friends.setdefault(key,[]).append(line4)\n",
        "        \n",
        "            # Extending the list\n",
        "            next_queue += follower_ids\n",
        "            friend_queue += friendid_queue\n",
        "            \n",
        "    return user_friends, user_followers # Dicts"
      ]
    },
    {
      "cell_type": "markdown",
      "metadata": {
        "id": "kb4BjfhExJVD"
      },
      "source": [
        "- __Retrieve IDs of that user's friends and followers. These are two lists. You may set the max results, as we have here, to 5000.__"
      ]
    },
    {
      "cell_type": "code",
      "execution_count": null,
      "metadata": {
        "colab": {
          "base_uri": "https://localhost:8080/"
        },
        "id": "wL-eOdjZ1PBQ",
        "outputId": "bcbdfa9d-51d2-4701-c5b5-5283d4ae5fc3"
      },
      "outputs": [
        {
          "name": "stdout",
          "output_type": "stream",
          "text": [
            "Fetched 324 total friends ids for 65289126\n",
            "Fetched 5000 total followers ids for 65289126\n",
            "Fetched 47 total friends ids for 1497330791407407105\n",
            "Fetched 0 total followers ids for 1497330791407407105\n"
          ]
        },
        {
          "name": "stderr",
          "output_type": "stream",
          "text": [
            "Encountered 401 Error (Not Authorized)\n",
            "Encountered 401 Error (Not Authorized)\n"
          ]
        },
        {
          "name": "stdout",
          "output_type": "stream",
          "text": [
            "Fetched 0 total friends ids for 1429003081811996678\n",
            "Fetched 0 total followers ids for 1429003081811996678\n",
            "Fetched 553 total friends ids for 1427309005794418689\n",
            "Fetched 135 total followers ids for 1427309005794418689\n"
          ]
        }
      ],
      "source": [
        "screen_name = popular_user\n",
        "user_friends, user_followers = crawl_followers(t, screen_name, depth=2, limit=3)"
      ]
    },
    {
      "cell_type": "markdown",
      "metadata": {
        "id": "G4an2JFkxJVE"
      },
      "source": [
        "Pretty Printing the Dictionary Data"
      ]
    },
    {
      "cell_type": "code",
      "execution_count": null,
      "metadata": {
        "colab": {
          "base_uri": "https://localhost:8080/"
        },
        "id": "eOZsQUHBxJVE",
        "outputId": "eddc5f63-6458-4f08-ea10-8cc06702303c",
        "scrolled": true
      },
      "outputs": [
        {
          "name": "stdout",
          "output_type": "stream",
          "text": [
            "Followers Dict: \n",
            "{   1427309005794418689: [   '1561636708814290949',\n",
            "                             '1560515213090250752',\n",
            "                             '1543768032551510016'],\n",
            "    '65289126': [   '1497330791407407105',\n",
            "                    '1429003081811996678',\n",
            "                    '1427309005794418689']}\n",
            "Friends Dict: \n",
            "{   1427309005794418689: ['15727578', '65289126', '2398823189'],\n",
            "    1497330791407407105: ['3000230307', '701635518', '2180163722'],\n",
            "    '65289126': ['1471313052284829697', '9340912', '26629196']}\n"
          ]
        }
      ],
      "source": [
        "import pprint\n",
        "pp = pprint.PrettyPrinter(indent=4)\n",
        "print('Followers Dict: ')\n",
        "pp.pprint(user_followers)\n",
        "print('Friends Dict: ')\n",
        "pp.pprint(user_friends)"
      ]
    },
    {
      "cell_type": "markdown",
      "metadata": {
        "id": "FEZVRXFaxJVE"
      },
      "source": [
        "--------------------------------------------------------------------------------------------------------------------------------"
      ]
    },
    {
      "cell_type": "markdown",
      "metadata": {
        "id": "1ZQ_DMAPxJVE"
      },
      "source": [
        "- __Use the two friends and followers lists to find the reciprocal friends of the popular user. These are the distance-1 friends of that user.__"
      ]
    },
    {
      "cell_type": "markdown",
      "metadata": {
        "id": "Pq_hcJgLxJVG"
      },
      "source": [
        "__Reciprocal friends__ are: mutual followers, ie. the ones you follow and the ones who follow you. __Friends__ are: the ones which you follow. __Followers__ are: the ones who follow you.\n",
        "\n",
        "Given two sets, the intersection of the sets returns the items that they have in common. The intersection is a commutative operation. Analyzing friends and followers, the intersection of two sets can be interpreted as “mutual friends” or people you are following who are also following you back ie. Reciprocal Friends. You are likely to have much stronger affinities."
      ]
    },
    {
      "cell_type": "code",
      "execution_count": null,
      "metadata": {
        "id": "x8_BD84yxJVG"
      },
      "outputs": [],
      "source": [
        "def get_reciprocal_friends(user_friends, user_followers):\n",
        "    set_friends= set(user_friends)\n",
        "    set_followers = set(user_followers)\n",
        "\n",
        "    # Getting User Id as it is the first element in the dictionary\n",
        "    user_id = next(iter(user_friends))\n",
        "    \n",
        "    # get reciprocal friends at distance-1 from the popular user:\n",
        "    reciprocal_friends = list(set_friends.intersection(set_followers))\n",
        "    return reciprocal_friends # List"
      ]
    },
    {
      "cell_type": "code",
      "execution_count": null,
      "metadata": {
        "id": "oF_6AKt_xJVH"
      },
      "outputs": [],
      "source": [
        "# Merge the data of both lists to just ids to simplify things\n",
        "all_followers_list = []\n",
        "all_friends_List = []\n",
        "\n",
        "for user_id, followers in user_followers.items():\n",
        "    all_followers_list.append(int(user_id))\n",
        "    for fo in range(len(followers)):\n",
        "        all_followers_list.append(int(user_followers.get(user_id)[fo]))\n",
        "        \n",
        "for user_id, friends in user_friends.items():\n",
        "    all_friends_List.append(int(user_id))\n",
        "    for fo in range(len(friends)):\n",
        "        all_friends_List.append(int(user_friends.get(user_id)[fo]))"
      ]
    },
    {
      "cell_type": "code",
      "execution_count": null,
      "metadata": {
        "colab": {
          "base_uri": "https://localhost:8080/"
        },
        "id": "lR9Xf-g0xJVH",
        "outputId": "45997f35-dd90-4b46-954f-1c9f6108df32"
      },
      "outputs": [
        {
          "name": "stdout",
          "output_type": "stream",
          "text": [
            "All Followers List: \n",
            "65289126\n",
            "1497330791407407105\n",
            "1429003081811996678\n",
            "1427309005794418689\n",
            "1427309005794418689\n",
            "1561636708814290949\n",
            "1560515213090250752\n",
            "1543768032551510016\n",
            "\n",
            " All Friends List: \n",
            "65289126\n",
            "1471313052284829697\n",
            "9340912\n",
            "26629196\n",
            "1497330791407407105\n",
            "3000230307\n",
            "701635518\n",
            "2180163722\n",
            "1427309005794418689\n",
            "15727578\n",
            "65289126\n",
            "2398823189\n"
          ]
        }
      ],
      "source": [
        "print(\"All Followers List: \")\n",
        "for x in range(len(all_followers_list)):\n",
        "    print(all_followers_list[x])\n",
        "print(\"\\n All Friends List: \")\n",
        "for x in range(len(all_friends_List)):\n",
        "    print(all_friends_List[x])"
      ]
    },
    {
      "cell_type": "code",
      "execution_count": null,
      "metadata": {
        "colab": {
          "base_uri": "https://localhost:8080/"
        },
        "id": "Szeemnm3xJVH",
        "outputId": "2d399680-b331-49d7-9c90-26186ff2bdac"
      },
      "outputs": [
        {
          "name": "stdout",
          "output_type": "stream",
          "text": [
            "Reciprocal Friends:  [1497330791407407105, 65289126, 1427309005794418689]\n"
          ]
        }
      ],
      "source": [
        "# Get a list of reciprocal friends\n",
        "reciprocal_friends = get_reciprocal_friends(all_friends_List, all_followers_list)\n",
        "print('Reciprocal Friends: ', reciprocal_friends)"
      ]
    },
    {
      "cell_type": "markdown",
      "metadata": {
        "id": "HzO2dZULxJVI"
      },
      "source": [
        "--------------------------------------------------------------------------------------------------------------------------------"
      ]
    },
    {
      "cell_type": "markdown",
      "metadata": {
        "id": "algzyAbHxJVI"
      },
      "source": [
        "- __From that list of distance-1 friends, select the 5 most popular as determined by their followers_count values in user profiles. Use, for instance, the get_user_profile function from Mining the Social Web.__"
      ]
    },
    {
      "cell_type": "code",
      "execution_count": null,
      "metadata": {
        "id": "PhAVcMNCxJVI"
      },
      "outputs": [],
      "source": [
        "# Used to retreive follower count and get profile details\n",
        "\n",
        "# Resolving user profile information\n",
        "def get_user_profile(twitter_api, screen_names=None, user_ids=None):\n",
        "    \n",
        "    # Must have either screen_name or user_id (logical xor)\n",
        "    assert (screen_names != None) != (user_ids != None), \\\n",
        "    \"Must have screen_names or user_ids, but not both\"\n",
        "\n",
        "    items_to_info = {}\n",
        "    items = screen_names or user_ids\n",
        "\n",
        "    while len(items) > 0:\n",
        "        # Process 100 items at a time per the API specifications for /users/lookup.\n",
        "        # See https://dev.twitter.com/docs/api/1.1/get/users/lookup for details.\n",
        "        \n",
        "        items_str = ','.join([str(item) for item in items[:100]])\n",
        "        items = items[100:]\n",
        "        if screen_names:\n",
        "            response = make_twitter_request(twitter_api.users.lookup,\n",
        "                                            screen_name=items_str)\n",
        "        else: # user_ids\n",
        "            response = make_twitter_request(twitter_api.users.lookup,\n",
        "                                            user_id=items_str)\n",
        "            \n",
        "        for user_info in response:\n",
        "            if screen_names:\n",
        "                items_to_info[user_info['screen_name']] = user_info\n",
        "            else: # user_ids\n",
        "                items_to_info[user_info['id']] = user_info\n",
        "                \n",
        "    return items_to_info"
      ]
    },
    {
      "cell_type": "code",
      "execution_count": null,
      "metadata": {
        "colab": {
          "base_uri": "https://localhost:8080/"
        },
        "id": "oHJUAEkLxJVI",
        "outputId": "bd65c282-0ddc-4ed6-ac33-9b3913e8a47c"
      },
      "outputs": [
        {
          "name": "stdout",
          "output_type": "stream",
          "text": [
            "(1497330791407407105, 0)\n",
            "(65289126, 4231895)\n",
            "(1427309005794418689, 135)\n"
          ]
        }
      ],
      "source": [
        "# Create a list of tuples of the followers count\n",
        "follower_count_list = []\n",
        "\n",
        "if not reciprocal_friends: # Case1: if reciprocal friends are 0\n",
        "    combined_friends_followers = []\n",
        "    combined_friends_followers = all_followers_list + all_friends_List\n",
        "    combined_friends_followers = set(combined_friends_followers)\n",
        "    \n",
        "    for user_id in list(combined_friends_followers):\n",
        "        us_data = get_user_profile(t, user_ids=[user_id])\n",
        "        us_data = json.dumps(us_data)\n",
        "        us_data = json.loads(us_data)\n",
        "        fo_count = us_data[str(user_id)]['followers_count']\n",
        "        follower_count_list.append(((int(user_id), int(fo_count))))\n",
        "    \n",
        "else: #Case2: if reciprocal friends are present\n",
        "    for user_id in list(reciprocal_friends):\n",
        "        us_data = get_user_profile(t, user_ids=[user_id])\n",
        "        us_data = json.dumps(us_data)\n",
        "        us_data = json.loads(us_data)\n",
        "        fo_count = us_data[str(user_id)]['followers_count']\n",
        "        follower_count_list.append(((int(user_id), int(fo_count))))\n",
        "    #print(follower_count_list)\n",
        "    \n",
        "for x in range(len(follower_count_list)):\n",
        "    print(follower_count_list[x])"
      ]
    },
    {
      "cell_type": "code",
      "execution_count": null,
      "metadata": {
        "colab": {
          "base_uri": "https://localhost:8080/"
        },
        "id": "0RjuTxAnxJVJ",
        "outputId": "47b3f552-954e-43a4-9bb0-3a701e0874b5",
        "scrolled": true
      },
      "outputs": [
        {
          "name": "stdout",
          "output_type": "stream",
          "text": [
            "[(65289126, 4231895), (1427309005794418689, 135), (1497330791407407105, 0)]\n"
          ]
        }
      ],
      "source": [
        "# Sort the follower count list, in decreasing order wrt values\n",
        "sorted_count_list = sorted(follower_count_list, key=lambda fo_count: fo_count[1], reverse=True) # sort by count values\n",
        "print(sorted_count_list)"
      ]
    },
    {
      "cell_type": "markdown",
      "metadata": {
        "id": "1BbhgWKYxJVJ"
      },
      "source": [
        "- __Get top-5 followers by user id__"
      ]
    },
    {
      "cell_type": "code",
      "execution_count": null,
      "metadata": {
        "id": "sLeWT95zxJVJ"
      },
      "outputs": [],
      "source": [
        "# Get followers for the TOP-5 in this list\n",
        "\n",
        "def crawl_followers_by_user_id(twitter_api, user_friends, user_followers, user_id=None, limit=1000000, depth=1):\n",
        "    screen_id = user_id\n",
        "    friend_queue, next_queue = get_friends_followers_ids(twitter_api, user_id=screen_id,\n",
        "                        friends_limit=limit, followers_limit=limit)\n",
        "    \n",
        "    # Store followers in an object\n",
        "    #user_followers = dict()\n",
        "    follower_list = [str(x) for x in next_queue]\n",
        "    \n",
        "    for line1 in follower_list:\n",
        "        # here define what key is, for example,\n",
        "        key = screen_id\n",
        "        user_followers.setdefault(key,[]).append(line1)\n",
        "    \n",
        "    # Store friends in an object\n",
        "    #user_friends = dict()\n",
        "    friend_list = [str(x) for x in friend_queue]\n",
        "    \n",
        "    for line2 in friend_list:\n",
        "        # here define what key is, for example,\n",
        "        key = screen_id\n",
        "        user_friends.setdefault(key,[]).append(line2)\n",
        "\n",
        "    #null_var = \"\"\n",
        "    #save_followers(seed_id, \"'\"+','.join([str(x) for x in next_queue if x is not null_var])+\"'\")\n",
        "    \n",
        "    d = 1\n",
        "    list_count = 0\n",
        "    tempDict = dict()\n",
        "    # Note that in the example in the next cell, we never enter this loop.\n",
        "    while d < depth and list_count < 100:\n",
        "        d += 1\n",
        "        list_count += 1\n",
        "        # Reset the next_queue so that we can start building up the next level of followers-of-followers\n",
        "        (queue, next_queue) = (next_queue, [])\n",
        "        \n",
        "        # Loop through the current level of followers\n",
        "        for fid in queue:\n",
        "            friendid_queue, follower_ids = get_friends_followers_ids(twitter_api, user_id=fid, friends_limit=limit, followers_limit=limit)\n",
        "            \n",
        "            # Store an ID with a string recording IDs of followers of the user with ID \"fid\"\n",
        "            #save_followers(str(fid), \"'\"+','.join([str(x) for x in follower_ids if x is not null_var])+\"'\")\n",
        "\n",
        "            # Store followers in an object\n",
        "            follower_ids_list = [str(x) for x in follower_ids]\n",
        "\n",
        "            for line3 in follower_ids_list:\n",
        "                # here define what key is, for example,\n",
        "                key = fid\n",
        "                user_followers.setdefault(key,[]).append(line3)\n",
        "\n",
        "            # Store friends in an object\n",
        "            friendsid_list = [str(x) for x in friendid_queue]\n",
        "    \n",
        "            for line4 in friendsid_list:\n",
        "                # here define what key is, for example,\n",
        "                key = fid\n",
        "                user_friends.setdefault(key,[]).append(line4)\n",
        "        \n",
        "            # Extending the list\n",
        "            next_queue += follower_ids\n",
        "            friend_queue += friendid_queue\n",
        "        \n",
        "        tempDict.update(user_followers)\n",
        "        tempDict.update(user_friends)\n",
        "        list_count = sum(len(v) for k, v in tempDict.items())\n",
        "        print('Length of list: ', list_count)\n",
        "    \n",
        "    return user_friends, user_followers # Dicts"
      ]
    },
    {
      "cell_type": "code",
      "execution_count": null,
      "metadata": {
        "colab": {
          "base_uri": "https://localhost:8080/"
        },
        "id": "elLzZbVoxJVJ",
        "outputId": "af198a3a-c641-41fd-f6a8-41130f2a7ad5",
        "scrolled": true
      },
      "outputs": [
        {
          "name": "stdout",
          "output_type": "stream",
          "text": [
            "Sorted Count List Len:  3\n",
            "Fetched 324 total friends ids for 65289126\n",
            "Fetched 5000 total followers ids for 65289126\n",
            "Fetched 47 total friends ids for 1497330791407407105\n",
            "Fetched 0 total followers ids for 1497330791407407105\n"
          ]
        },
        {
          "name": "stderr",
          "output_type": "stream",
          "text": [
            "Encountered 401 Error (Not Authorized)\n",
            "Encountered 401 Error (Not Authorized)\n"
          ]
        },
        {
          "name": "stdout",
          "output_type": "stream",
          "text": [
            "Fetched 0 total friends ids for 1429003081811996678\n",
            "Fetched 0 total followers ids for 1429003081811996678\n",
            "Fetched 553 total friends ids for 1427309005794418689\n",
            "Fetched 135 total followers ids for 1427309005794418689\n",
            "Fetched 1273 total friends ids for 1535902062310879233\n",
            "Fetched 1035 total followers ids for 1535902062310879233\n",
            "Fetched 28 total friends ids for 1573162479915798528\n",
            "Fetched 1 total followers ids for 1573162479915798528\n",
            "Length of list:  25\n",
            "Fetched 324 total friends ids for 65289126\n",
            "Fetched 5000 total followers ids for 65289126\n",
            "Fetched 47 total friends ids for 1497330791407407105\n",
            "Fetched 0 total followers ids for 1497330791407407105\n"
          ]
        },
        {
          "name": "stderr",
          "output_type": "stream",
          "text": [
            "Encountered 401 Error (Not Authorized)\n",
            "Encountered 401 Error (Not Authorized)\n"
          ]
        },
        {
          "name": "stdout",
          "output_type": "stream",
          "text": [
            "Fetched 0 total friends ids for 1429003081811996678\n",
            "Fetched 0 total followers ids for 1429003081811996678\n",
            "Fetched 553 total friends ids for 1427309005794418689\n",
            "Fetched 135 total followers ids for 1427309005794418689\n",
            "Fetched 1273 total friends ids for 1535902062310879233\n"
          ]
        },
        {
          "name": "stderr",
          "output_type": "stream",
          "text": [
            "Encountered 429 Error (Rate Limit Exceeded)\n",
            "Retrying in 15 minutes...ZzZ...\n"
          ]
        },
        {
          "name": "stdout",
          "output_type": "stream",
          "text": [
            "Fetched 1035 total followers ids for 1535902062310879233\n"
          ]
        },
        {
          "name": "stderr",
          "output_type": "stream",
          "text": [
            "...ZzZ...Awake now and trying again.\n"
          ]
        },
        {
          "name": "stdout",
          "output_type": "stream",
          "text": [
            "Fetched 28 total friends ids for 1573162479915798528\n",
            "Fetched 1 total followers ids for 1573162479915798528\n",
            "Length of list:  50\n",
            "Fetched 324 total friends ids for 65289126\n",
            "Fetched 5000 total followers ids for 65289126\n",
            "Fetched 0 total friends ids for 1509330065741516805\n",
            "Fetched 0 total followers ids for 1509330065741516805\n"
          ]
        },
        {
          "name": "stderr",
          "output_type": "stream",
          "text": [
            "Encountered 401 Error (Not Authorized)\n",
            "Encountered 401 Error (Not Authorized)\n"
          ]
        },
        {
          "name": "stdout",
          "output_type": "stream",
          "text": [
            "Fetched 61 total friends ids for 1571926709657559053\n",
            "Fetched 0 total followers ids for 1571926709657559053\n",
            "Fetched 191 total friends ids for 1571485159299641344\n",
            "Fetched 0 total followers ids for 1571485159299641344\n",
            "Fetched 214 total friends ids for 748907950052413440\n",
            "Fetched 11 total followers ids for 748907950052413440\n",
            "Fetched 37 total friends ids for 1574337317870964736\n",
            "Fetched 0 total followers ids for 1574337317870964736\n",
            "Length of list:  75\n",
            "Fetched 324 total friends ids for 65289126\n",
            "Fetched 5000 total followers ids for 65289126\n",
            "Fetched 0 total friends ids for 1509330065741516805\n",
            "Fetched 0 total followers ids for 1509330065741516805\n"
          ]
        },
        {
          "name": "stderr",
          "output_type": "stream",
          "text": [
            "Encountered 401 Error (Not Authorized)\n",
            "Encountered 401 Error (Not Authorized)\n"
          ]
        },
        {
          "name": "stdout",
          "output_type": "stream",
          "text": [
            "Fetched 61 total friends ids for 1571926709657559053\n",
            "Fetched 0 total followers ids for 1571926709657559053\n",
            "Fetched 191 total friends ids for 1571485159299641344\n",
            "Fetched 0 total followers ids for 1571485159299641344\n",
            "Fetched 214 total friends ids for 748907950052413440\n",
            "Fetched 11 total followers ids for 748907950052413440\n",
            "Fetched 37 total friends ids for 1574337317870964736\n",
            "Fetched 0 total followers ids for 1574337317870964736\n",
            "Length of list:  100\n",
            "Fetched 324 total friends ids for 65289126\n",
            "Fetched 5000 total followers ids for 65289126\n",
            "Fetched 0 total friends ids for 1509330065741516805\n"
          ]
        },
        {
          "name": "stderr",
          "output_type": "stream",
          "text": [
            "Encountered 401 Error (Not Authorized)\n",
            "Encountered 401 Error (Not Authorized)\n",
            "Encountered 429 Error (Rate Limit Exceeded)\n",
            "Retrying in 15 minutes...ZzZ...\n"
          ]
        },
        {
          "name": "stdout",
          "output_type": "stream",
          "text": [
            "Fetched 0 total followers ids for 1509330065741516805\n"
          ]
        },
        {
          "name": "stderr",
          "output_type": "stream",
          "text": [
            "...ZzZ...Awake now and trying again.\n"
          ]
        },
        {
          "name": "stdout",
          "output_type": "stream",
          "text": [
            "Fetched 73 total friends ids for 1571926709657559053\n",
            "Fetched 1 total followers ids for 1571926709657559053\n",
            "Fetched 191 total friends ids for 1571485159299641344\n",
            "Fetched 0 total followers ids for 1571485159299641344\n",
            "Fetched 253 total friends ids for 748907950052413440\n",
            "Fetched 11 total followers ids for 748907950052413440\n",
            "Fetched 37 total friends ids for 1574337317870964736\n",
            "Fetched 0 total followers ids for 1574337317870964736\n",
            "Length of list:  125\n",
            "end_friends:  {65289126: ['1471313052284829697', '9340912', '26629196', '2721644214', '1109015156955074560', '1471313052284829697', '9340912', '26629196', '2721644214', '1109015156955074560', '1471313052284829697', '9340912', '26629196', '2721644214', '1109015156955074560', '1471313052284829697', '9340912', '26629196', '2721644214', '1109015156955074560', '1471313052284829697', '9340912', '26629196', '2721644214', '1109015156955074560'], 1497330791407407105: ['3000230307', '701635518', '2180163722', '1152749683938222080', '701625379', '3000230307', '701635518', '2180163722', '1152749683938222080', '701625379'], 1427309005794418689: ['15727578', '65289126', '2398823189', '469706697', '18891257', '15727578', '65289126', '2398823189', '469706697', '18891257'], 1535902062310879233: ['65289126', '928758856859000832', '1560849080238350338', '1574299702287220736', '1351030835772870656', '65289126', '928758856859000832', '1560849080238350338', '1574299702287220736', '1351030835772870656'], 1573162479915798528: ['940304499545030656', '67418441', '163787110', '1059896820', '508932270', '940304499545030656', '67418441', '163787110', '1059896820', '508932270'], 1571926709657559053: ['1054013417210683398', '407516846', '2715115656', '53184480', '1488626051194490881', '1054013417210683398', '407516846', '2715115656', '53184480', '1488626051194490881', '1596661453', '3945542423', '1309883948', '327187133', '986010984211939332'], 1571485159299641344: ['65289126', '701615052', '570218986', '393852070', '47285504', '65289126', '701615052', '570218986', '393852070', '47285504', '65289126', '701615052', '570218986', '393852070', '47285504'], 748907950052413440: ['22083910', '1038322449815748608', '1267553030788055047', '1250343410721894400', '1011601141807927298', '22083910', '1038322449815748608', '1267553030788055047', '1250343410721894400', '1011601141807927298', '43815496', '16912794', '377188743', '45710831', '849062201830719489'], 1574337317870964736: ['317114365', '3167844570', '985916593065476096', '570218986', '1064941020931067906', '317114365', '3167844570', '985916593065476096', '570218986', '1064941020931067906', '317114365', '3167844570', '985916593065476096', '570218986', '1064941020931067906']}\n",
            "end_followers:  {65289126: ['1497330791407407105', '1429003081811996678', '1427309005794418689', '1535902062310879233', '1573162479915798528', '1497330791407407105', '1429003081811996678', '1427309005794418689', '1535902062310879233', '1573162479915798528', '1509330065741516805', '1571926709657559053', '1571485159299641344', '748907950052413440', '1574337317870964736', '1509330065741516805', '1571926709657559053', '1571485159299641344', '748907950052413440', '1574337317870964736', '1509330065741516805', '1571926709657559053', '1571485159299641344', '748907950052413440', '1574337317870964736'], 1427309005794418689: ['1561636708814290949', '1560515213090250752', '1543768032551510016', '1561657563300724736', '1425679339731881985', '1561636708814290949', '1560515213090250752', '1543768032551510016', '1561657563300724736', '1425679339731881985'], 1535902062310879233: ['1563329250093981696', '1252772476238483456', '1531582697218314240', '1351030835772870656', '1570320447832748032', '1563329250093981696', '1252772476238483456', '1531582697218314240', '1351030835772870656', '1570320447832748032'], 1573162479915798528: ['1424998714880364548', '1424998714880364548'], 748907950052413440: ['2668011932', '1177640643256111104', '828307823012491264', '3298886172', '2701221692', '2668011932', '1177640643256111104', '828307823012491264', '3298886172', '2701221692', '2668011932', '1177640643256111104', '828307823012491264', '3298886172', '2701221692'], 1571926709657559053: ['1574325140766302208']}\n"
          ]
        }
      ],
      "source": [
        "#from collections import Counter\n",
        "\n",
        "sorted_count_list_len = len(sorted_count_list)\n",
        "print('Sorted Count List Len: ', sorted_count_list_len)\n",
        "\n",
        "end_friends = dict()\n",
        "end_followers = dict()\n",
        "\n",
        "tempCount = 0\n",
        "for item in range(sorted_count_list_len):\n",
        "    while tempCount < 5 : # consider only top 5\n",
        "        tempCount += 1\n",
        "        userid = sorted_count_list[item][0]\n",
        "        #print(userid)\n",
        "        end_friends, end_followers = crawl_followers_by_user_id(t, end_friends, end_followers, user_id=userid, limit=5, depth=2)\n",
        "        \n",
        "print('end_friends: ',end_friends)\n",
        "print('end_followers: ', end_followers)"
      ]
    },
    {
      "cell_type": "code",
      "execution_count": null,
      "metadata": {
        "colab": {
          "base_uri": "https://localhost:8080/"
        },
        "id": "39_jKhKixJVK",
        "outputId": "95f99964-d973-4b04-967e-b819ea13bf65"
      },
      "outputs": [
        {
          "name": "stdout",
          "output_type": "stream",
          "text": [
            "9\n",
            "{   65289126: [   '1471313052284829697',\n",
            "                  '9340912',\n",
            "                  '26629196',\n",
            "                  '2721644214',\n",
            "                  '1109015156955074560',\n",
            "                  '1471313052284829697',\n",
            "                  '9340912',\n",
            "                  '26629196',\n",
            "                  '2721644214',\n",
            "                  '1109015156955074560',\n",
            "                  '1471313052284829697',\n",
            "                  '9340912',\n",
            "                  '26629196',\n",
            "                  '2721644214',\n",
            "                  '1109015156955074560',\n",
            "                  '1471313052284829697',\n",
            "                  '9340912',\n",
            "                  '26629196',\n",
            "                  '2721644214',\n",
            "                  '1109015156955074560',\n",
            "                  '1471313052284829697',\n",
            "                  '9340912',\n",
            "                  '26629196',\n",
            "                  '2721644214',\n",
            "                  '1109015156955074560'],\n",
            "    748907950052413440: [   '22083910',\n",
            "                            '1038322449815748608',\n",
            "                            '1267553030788055047',\n",
            "                            '1250343410721894400',\n",
            "                            '1011601141807927298',\n",
            "                            '22083910',\n",
            "                            '1038322449815748608',\n",
            "                            '1267553030788055047',\n",
            "                            '1250343410721894400',\n",
            "                            '1011601141807927298',\n",
            "                            '43815496',\n",
            "                            '16912794',\n",
            "                            '377188743',\n",
            "                            '45710831',\n",
            "                            '849062201830719489'],\n",
            "    1427309005794418689: [   '15727578',\n",
            "                             '65289126',\n",
            "                             '2398823189',\n",
            "                             '469706697',\n",
            "                             '18891257',\n",
            "                             '15727578',\n",
            "                             '65289126',\n",
            "                             '2398823189',\n",
            "                             '469706697',\n",
            "                             '18891257'],\n",
            "    1497330791407407105: [   '3000230307',\n",
            "                             '701635518',\n",
            "                             '2180163722',\n",
            "                             '1152749683938222080',\n",
            "                             '701625379',\n",
            "                             '3000230307',\n",
            "                             '701635518',\n",
            "                             '2180163722',\n",
            "                             '1152749683938222080',\n",
            "                             '701625379'],\n",
            "    1535902062310879233: [   '65289126',\n",
            "                             '928758856859000832',\n",
            "                             '1560849080238350338',\n",
            "                             '1574299702287220736',\n",
            "                             '1351030835772870656',\n",
            "                             '65289126',\n",
            "                             '928758856859000832',\n",
            "                             '1560849080238350338',\n",
            "                             '1574299702287220736',\n",
            "                             '1351030835772870656'],\n",
            "    1571485159299641344: [   '65289126',\n",
            "                             '701615052',\n",
            "                             '570218986',\n",
            "                             '393852070',\n",
            "                             '47285504',\n",
            "                             '65289126',\n",
            "                             '701615052',\n",
            "                             '570218986',\n",
            "                             '393852070',\n",
            "                             '47285504',\n",
            "                             '65289126',\n",
            "                             '701615052',\n",
            "                             '570218986',\n",
            "                             '393852070',\n",
            "                             '47285504'],\n",
            "    1571926709657559053: [   '1054013417210683398',\n",
            "                             '407516846',\n",
            "                             '2715115656',\n",
            "                             '53184480',\n",
            "                             '1488626051194490881',\n",
            "                             '1054013417210683398',\n",
            "                             '407516846',\n",
            "                             '2715115656',\n",
            "                             '53184480',\n",
            "                             '1488626051194490881',\n",
            "                             '1596661453',\n",
            "                             '3945542423',\n",
            "                             '1309883948',\n",
            "                             '327187133',\n",
            "                             '986010984211939332'],\n",
            "    1573162479915798528: [   '940304499545030656',\n",
            "                             '67418441',\n",
            "                             '163787110',\n",
            "                             '1059896820',\n",
            "                             '508932270',\n",
            "                             '940304499545030656',\n",
            "                             '67418441',\n",
            "                             '163787110',\n",
            "                             '1059896820',\n",
            "                             '508932270'],\n",
            "    1574337317870964736: [   '317114365',\n",
            "                             '3167844570',\n",
            "                             '985916593065476096',\n",
            "                             '570218986',\n",
            "                             '1064941020931067906',\n",
            "                             '317114365',\n",
            "                             '3167844570',\n",
            "                             '985916593065476096',\n",
            "                             '570218986',\n",
            "                             '1064941020931067906',\n",
            "                             '317114365',\n",
            "                             '3167844570',\n",
            "                             '985916593065476096',\n",
            "                             '570218986',\n",
            "                             '1064941020931067906']}\n"
          ]
        }
      ],
      "source": [
        "all_end_nodes = dict(end_followers)\n",
        "all_end_nodes.update(end_friends)\n",
        "\n",
        "print(len(all_end_nodes))\n",
        "pp.pprint(all_end_nodes)"
      ]
    },
    {
      "cell_type": "markdown",
      "metadata": {
        "id": "32MnYFqExJVK"
      },
      "source": [
        "--------------------------------------------------------------------------------------------------------------------------------"
      ]
    },
    {
      "cell_type": "markdown",
      "metadata": {
        "id": "N05TpvE5xJVM"
      },
      "source": [
        "- Save the nodes (users) in a .json file"
      ]
    },
    {
      "cell_type": "code",
      "execution_count": null,
      "metadata": {
        "id": "ExXoJ3KlxJVM"
      },
      "outputs": [],
      "source": [
        "import json\n",
        "\n",
        "with open('Graph_data.json', 'w') as fp:\n",
        "    json.dump(all_end_nodes, fp, indent=4)"
      ]
    },
    {
      "cell_type": "markdown",
      "metadata": {
        "id": "_K0qzFVixJVM"
      },
      "source": [
        "--------------------------------------------------------------------------------------------------------------------------------"
      ]
    },
    {
      "cell_type": "markdown",
      "metadata": {
        "id": "3l6nRexNxJVM"
      },
      "source": [
        "- Import the json user details of followers and friends"
      ]
    },
    {
      "cell_type": "code",
      "execution_count": null,
      "metadata": {
        "id": "gOEm_tb9xJVN",
        "scrolled": true
      },
      "outputs": [],
      "source": [
        "with open('Graph_data.json', 'r') as fp:\n",
        "    data = json.load(fp)"
      ]
    },
    {
      "cell_type": "markdown",
      "metadata": {
        "id": "NEFUVHjYxJVN"
      },
      "source": [
        "- convert the details to create a list of nodes and list of edges"
      ]
    },
    {
      "cell_type": "code",
      "execution_count": null,
      "metadata": {
        "colab": {
          "base_uri": "https://localhost:8080/"
        },
        "id": "wpmcJS5uxJVN",
        "outputId": "f3d61ebe-89de-4354-e3e6-67548c55e56d"
      },
      "outputs": [
        {
          "name": "stdout",
          "output_type": "stream",
          "text": [
            "61\n"
          ]
        }
      ],
      "source": [
        "node_list = []\n",
        "\n",
        "for user_id, followers in data.items():\n",
        "    node_list.append(int(user_id))\n",
        "    #for fo in range(len(followers)):\n",
        "        #node_list.append(int(data.get(user_id)[fo]))\n",
        "    node_list += followers \n",
        "\n",
        "#for x in range(len(node_list)):\n",
        "#    print(node_list[x])\n",
        "\n",
        "# Convert a list to a set to get the unique ids, and then back to a list\n",
        "node_list = list(set(node_list))\n",
        "print(len(node_list))"
      ]
    },
    {
      "cell_type": "code",
      "execution_count": null,
      "metadata": {
        "colab": {
          "base_uri": "https://localhost:8080/"
        },
        "id": "w_etJioVxJVN",
        "outputId": "f087eded-a6bc-47b1-99a6-f7dbc71c997d"
      },
      "outputs": [
        {
          "name": "stdout",
          "output_type": "stream",
          "text": [
            "(65289126, 1471313052284829697)\n",
            "(65289126, 9340912)\n",
            "(65289126, 26629196)\n",
            "(65289126, 2721644214)\n",
            "(65289126, 1109015156955074560)\n",
            "(65289126, 1471313052284829697)\n",
            "(65289126, 9340912)\n",
            "(65289126, 26629196)\n",
            "(65289126, 2721644214)\n",
            "(65289126, 1109015156955074560)\n",
            "(65289126, 1471313052284829697)\n",
            "(65289126, 9340912)\n",
            "(65289126, 26629196)\n",
            "(65289126, 2721644214)\n",
            "(65289126, 1109015156955074560)\n",
            "(65289126, 1471313052284829697)\n",
            "(65289126, 9340912)\n",
            "(65289126, 26629196)\n",
            "(65289126, 2721644214)\n",
            "(65289126, 1109015156955074560)\n",
            "(65289126, 1471313052284829697)\n",
            "(65289126, 9340912)\n",
            "(65289126, 26629196)\n",
            "(65289126, 2721644214)\n",
            "(65289126, 1109015156955074560)\n",
            "(1427309005794418689, 15727578)\n",
            "(1427309005794418689, 65289126)\n",
            "(1427309005794418689, 2398823189)\n",
            "(1427309005794418689, 469706697)\n",
            "(1427309005794418689, 18891257)\n",
            "(1427309005794418689, 15727578)\n",
            "(1427309005794418689, 65289126)\n",
            "(1427309005794418689, 2398823189)\n",
            "(1427309005794418689, 469706697)\n",
            "(1427309005794418689, 18891257)\n",
            "(1535902062310879233, 65289126)\n",
            "(1535902062310879233, 928758856859000832)\n",
            "(1535902062310879233, 1560849080238350338)\n",
            "(1535902062310879233, 1574299702287220736)\n",
            "(1535902062310879233, 1351030835772870656)\n",
            "(1535902062310879233, 65289126)\n",
            "(1535902062310879233, 928758856859000832)\n",
            "(1535902062310879233, 1560849080238350338)\n",
            "(1535902062310879233, 1574299702287220736)\n",
            "(1535902062310879233, 1351030835772870656)\n",
            "(1573162479915798528, 940304499545030656)\n",
            "(1573162479915798528, 67418441)\n",
            "(1573162479915798528, 163787110)\n",
            "(1573162479915798528, 1059896820)\n",
            "(1573162479915798528, 508932270)\n",
            "(1573162479915798528, 940304499545030656)\n",
            "(1573162479915798528, 67418441)\n",
            "(1573162479915798528, 163787110)\n",
            "(1573162479915798528, 1059896820)\n",
            "(1573162479915798528, 508932270)\n",
            "(748907950052413440, 22083910)\n",
            "(748907950052413440, 1038322449815748608)\n",
            "(748907950052413440, 1267553030788055047)\n",
            "(748907950052413440, 1250343410721894400)\n",
            "(748907950052413440, 1011601141807927298)\n",
            "(748907950052413440, 22083910)\n",
            "(748907950052413440, 1038322449815748608)\n",
            "(748907950052413440, 1267553030788055047)\n",
            "(748907950052413440, 1250343410721894400)\n",
            "(748907950052413440, 1011601141807927298)\n",
            "(748907950052413440, 43815496)\n",
            "(748907950052413440, 16912794)\n",
            "(748907950052413440, 377188743)\n",
            "(748907950052413440, 45710831)\n",
            "(748907950052413440, 849062201830719489)\n",
            "(1571926709657559053, 1054013417210683398)\n",
            "(1571926709657559053, 407516846)\n",
            "(1571926709657559053, 2715115656)\n",
            "(1571926709657559053, 53184480)\n",
            "(1571926709657559053, 1488626051194490881)\n",
            "(1571926709657559053, 1054013417210683398)\n",
            "(1571926709657559053, 407516846)\n",
            "(1571926709657559053, 2715115656)\n",
            "(1571926709657559053, 53184480)\n",
            "(1571926709657559053, 1488626051194490881)\n",
            "(1571926709657559053, 1596661453)\n",
            "(1571926709657559053, 3945542423)\n",
            "(1571926709657559053, 1309883948)\n",
            "(1571926709657559053, 327187133)\n",
            "(1571926709657559053, 986010984211939332)\n",
            "(1497330791407407105, 3000230307)\n",
            "(1497330791407407105, 701635518)\n",
            "(1497330791407407105, 2180163722)\n",
            "(1497330791407407105, 1152749683938222080)\n",
            "(1497330791407407105, 701625379)\n",
            "(1497330791407407105, 3000230307)\n",
            "(1497330791407407105, 701635518)\n",
            "(1497330791407407105, 2180163722)\n",
            "(1497330791407407105, 1152749683938222080)\n",
            "(1497330791407407105, 701625379)\n",
            "(1571485159299641344, 65289126)\n",
            "(1571485159299641344, 701615052)\n",
            "(1571485159299641344, 570218986)\n",
            "(1571485159299641344, 393852070)\n",
            "(1571485159299641344, 47285504)\n",
            "(1571485159299641344, 65289126)\n",
            "(1571485159299641344, 701615052)\n",
            "(1571485159299641344, 570218986)\n",
            "(1571485159299641344, 393852070)\n",
            "(1571485159299641344, 47285504)\n",
            "(1571485159299641344, 65289126)\n",
            "(1571485159299641344, 701615052)\n",
            "(1571485159299641344, 570218986)\n",
            "(1571485159299641344, 393852070)\n",
            "(1571485159299641344, 47285504)\n",
            "(1574337317870964736, 317114365)\n",
            "(1574337317870964736, 3167844570)\n",
            "(1574337317870964736, 985916593065476096)\n",
            "(1574337317870964736, 570218986)\n",
            "(1574337317870964736, 1064941020931067906)\n",
            "(1574337317870964736, 317114365)\n",
            "(1574337317870964736, 3167844570)\n",
            "(1574337317870964736, 985916593065476096)\n",
            "(1574337317870964736, 570218986)\n",
            "(1574337317870964736, 1064941020931067906)\n",
            "(1574337317870964736, 317114365)\n",
            "(1574337317870964736, 3167844570)\n",
            "(1574337317870964736, 985916593065476096)\n",
            "(1574337317870964736, 570218986)\n",
            "(1574337317870964736, 1064941020931067906)\n"
          ]
        }
      ],
      "source": [
        "edge_list = []\n",
        "\n",
        "for user_id, followers in data.items():\n",
        "    for fo in range(len(followers)):\n",
        "        # clean user_id and follower id\n",
        "        us_id = str(user_id).replace(\"'\", '')\n",
        "        fo_id = str(data.get(user_id)[fo]).replace(\"'\", '')\n",
        "        edge_list.append((int(us_id), int(fo_id)))\n",
        "\n",
        "for x in range(len(edge_list)):\n",
        "    print(edge_list[x])"
      ]
    },
    {
      "cell_type": "markdown",
      "metadata": {
        "id": "fOUbFgn5xJVN"
      },
      "source": [
        "--------------------------------------------------------------------------------------------------------------------------------"
      ]
    },
    {
      "cell_type": "markdown",
      "metadata": {
        "id": "PSffg53CxJVO"
      },
      "source": [
        "### • Choose a method of community detection and apply it to that graph\n",
        "#### Solution:"
      ]
    },
    {
      "cell_type": "code",
      "execution_count": null,
      "metadata": {
        "id": "CvjRaNUcxJVO"
      },
      "outputs": [],
      "source": [
        "import networkx as nx\n",
        "import numpy as np\n",
        "import community\n",
        "import matplotlib.pyplot as plt\n",
        "import networkx as nx\n",
        "import functools\n",
        "from operator import mul"
      ]
    },
    {
      "cell_type": "code",
      "execution_count": null,
      "metadata": {
        "id": "Dcda9SPaxJVO"
      },
      "outputs": [],
      "source": [
        "G = nx.Graph()\n",
        "G.add_nodes_from(node_list)\n",
        "G.add_edges_from(edge_list)"
      ]
    },
    {
      "cell_type": "code",
      "execution_count": 30,
      "metadata": {
        "id": "8flnJ7bOLySM"
      },
      "outputs": [],
      "source": [
        "!pip install -q torch-scatter -f https://pytorch-geometric.com/whl/torch-1.9.0+cu102.html\n",
        "!pip install -q torch-sparse -f https://pytorch-geometric.com/whl/torch-1.9.0+cu102.html\n",
        "!pip install -q git+https://github.com/rusty1s/pytorch_geometric.git"
      ]
    },
    {
      "cell_type": "code",
      "source": [
        "from community import community_louvain\n",
        "partition = community_louvain.best_partition(G)"
      ],
      "metadata": {
        "id": "Amq2jYJtCCki"
      },
      "execution_count": 35,
      "outputs": []
    },
    {
      "cell_type": "markdown",
      "metadata": {
        "id": "tZfJPBWAxJVO"
      },
      "source": [
        "Finds Communities with respect to Max Modularity, using Louvain's Algorithm:"
      ]
    },
    {
      "cell_type": "code",
      "execution_count": 37,
      "metadata": {
        "id": "qCVnEj15xJVO",
        "scrolled": true
      },
      "outputs": [],
      "source": [
        "# Computes the partition of the graph nodes which maximises the modularity using the Louvain heuristics algorithm. \n",
        "# This is the partition of highest modularity.\n",
        "\n",
        "part = community_louvain.best_partition(G)\n",
        "\n",
        "# Computes the modularity of a partition of a graph\n",
        "mod = community_louvain.modularity(part,G)"
      ]
    },
    {
      "cell_type": "markdown",
      "metadata": {
        "id": "x81j6qGOxJVP"
      },
      "source": [
        "--------------------------------------------------------------------------------------------------------------------------------"
      ]
    },
    {
      "cell_type": "markdown",
      "metadata": {
        "id": "GvjN0fhNxJVP"
      },
      "source": [
        "### • Produce a visual display of your graph such that nodes belonging to different communities are differently colored\n",
        "#### Solution:"
      ]
    },
    {
      "cell_type": "code",
      "execution_count": 39,
      "metadata": {
        "id": "Kg5sNqDZxJVP",
        "outputId": "05f7eb87-bb3e-41d8-e836-d35727dc7d6c",
        "scrolled": false,
        "colab": {
          "base_uri": "https://localhost:8080/",
          "height": 336
        }
      },
      "outputs": [
        {
          "output_type": "display_data",
          "data": {
            "text/plain": [
              "<Figure size 432x288 with 1 Axes>"
            ],
            "image/png": "[encoded data removed]"
          },
          "metadata": {}
        },
        {
          "output_type": "stream",
          "name": "stdout",
          "text": [
            "The Modularity of the Community Partitioning is:  0.8056198347107437\n"
          ]
        }
      ],
      "source": [
        "# Plot, color nodes using community structure\n",
        "values = [part.get(node) for node in G.nodes()]\n",
        "nx.draw_spring(G, cmap=plt.cm.RdYlBu, node_size=50, node_color = values, font_size=12, with_labels=False, font_family='sans-serif')\n",
        "\n",
        "#nx.draw_spring(G, cmap = plt.get_cmap('jet'), node_color = values, node_size=30, with_labels=False)\n",
        "\n",
        "#pos = nx.spring_layout(G)  # compute graph layout\n",
        "#nx.draw_networkx_nodes(G, pos, node_size=30, cmap=plt.cm.RdYlBu, node_color=values)\n",
        "#nx.draw_networkx_edges(G, pos,edgelist=edge_list, alpha=0.3)\n",
        "\n",
        "plt.show()\n",
        "\n",
        "print('The Modularity of the Community Partitioning is: ', community_louvain.modularity(part,G))"
      ]
    },
    {
      "cell_type": "markdown",
      "metadata": {
        "id": "nSaadfaSxJVP"
      },
      "source": [
        "--------------------------------------------------------------------------------------------------------------------------------"
      ]
    }
  ],
  "metadata": {
    "colab": {
      "collapsed_sections": [],
      "provenance": [],
      "include_colab_link": true
    },
    "kernelspec": {
      "display_name": "Python 3",
      "language": "python",
      "name": "python3"
    },
    "language_info": {
      "codemirror_mode": {
        "name": "ipython",
        "version": 3
      },
      "file_extension": ".py",
      "mimetype": "text/x-python",
      "name": "python",
      "nbconvert_exporter": "python",
      "pygments_lexer": "ipython3",
      "version": "3.8.8"
    }
  },
  "nbformat": 4,
  "nbformat_minor": 0
}